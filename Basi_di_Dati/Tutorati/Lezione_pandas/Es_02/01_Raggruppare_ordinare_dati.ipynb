{
 "cells": [
  {
   "cell_type": "markdown",
   "metadata": {},
   "source": [
    "# **Importazione del dataset**"
   ]
  },
  {
   "cell_type": "code",
   "execution_count": null,
   "metadata": {},
   "outputs": [],
   "source": [
    "import pandas as pd\n",
    "dataset1 = pd.read_csv('winemag-data-130k-v2.csv',index_col=0)"
   ]
  },
  {
   "cell_type": "markdown",
   "metadata": {},
   "source": [
    "# Raggruppare e ordinare i dati"
   ]
  },
  {
   "cell_type": "code",
   "execution_count": null,
   "metadata": {},
   "outputs": [],
   "source": [
    "# Raggruppa le righe del DataFrame per valore della colonna 'points' e per ogni raggruppamento calcola il numero di righe\n",
    "dataset1.groupby('points').points.count()\n",
    "\n",
    "# Raggruppa le righe del DataFrame per valore della colonna 'points' e per ogni raggruppamento calcola il prezzo minimo tra le righe presenti\n",
    "dataset1.groupby('points').price.min()\n",
    "\n",
    "# Raggruppa le righe del DataFrame per valore della colonna 'points' e per ogni raggruppamento calcola il prezzo massimo tra le righe presenti\n",
    "dataset1.groupby('points').price.max()\n",
    "\n",
    "# agg è una funzione a cui viene indicato un vettore di funzioni.\n",
    "# Queste funzioni vengono utilizzate per calcolare la statistica corrispondente sulla base della colonna indicata\n",
    "# Quindi raggruppa le righe del DataFrame sulla base delle colonne 'country' e 'province' e poi calcola le statistiche indicate in agg()\n",
    "dataset1.groupby(['country','province']).description.agg([len])\n",
    "dataset1.groupby(['country','province']).price.agg([len, min, max])\n",
    "\n",
    "# raggruppa le righe sulla base di 'winery' e per ogni cantina indica il nome del vino della prima riga del raggruppamento\n",
    "dataset1.groupby('winery').apply(lambda dataset1: dataset1.title.iloc[0])\n",
    "\n",
    "# Raggruppa le righe sulla base di 'winery' e per ogni cantina calcola il prezzo medio\n",
    "dataset1.groupby('winery').price.mean()"
   ]
  },
  {
   "cell_type": "code",
   "execution_count": null,
   "metadata": {},
   "outputs": [],
   "source": [
    "# Seleziono le righe del dataset che sono della cantina \"10 Knots\"\n",
    "my_winery = dataset1.loc[dataset1.winery == \"10 Knots\"]\n",
    "#print(len(my_winery))\n",
    "#print(my_winery)\n",
    "\n",
    "# Utilizziamo reset_index() per resettare gli indici e ripartire da 0.\n",
    "# Prima manteneva l'indice del dataset originale\n",
    "my_winery = my_winery.reset_index()\n",
    "#print(my_winery)\n",
    "\n",
    "# Ordinamento delle righe del dataset sulla base della colonna/colonne del DataFrame\n",
    "# che sono indicate in by\n",
    "# L'argomento ascending ci permette di indicare la tipologia di ordinamento\n",
    "#    - ascending=True -> ordinamento crescente\n",
    "#    - ascending=False -> ordinamento decrescente\n",
    "my_winery.sort_values(by='price') # default: ascending=True\n",
    "my_winery.sort_values(by='price', ascending=False)\n",
    "my_winery.sort_values(by=['country','price'])"
   ]
  }
 ],
 "metadata": {
  "kernelspec": {
   "display_name": ".venv",
   "language": "python",
   "name": "python3"
  },
  "language_info": {
   "name": "python",
   "version": "3.12.3"
  }
 },
 "nbformat": 4,
 "nbformat_minor": 2
}
