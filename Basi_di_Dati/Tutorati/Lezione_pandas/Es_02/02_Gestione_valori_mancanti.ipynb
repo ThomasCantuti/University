{
 "cells": [
  {
   "cell_type": "markdown",
   "metadata": {},
   "source": [
    "# **Gestione dei valori mancanti (NaN o null)**\n",
    "\n",
    "La gestione dei valori mancanti è molto delicata e dipende dal contesto in cui ci troviamo. Se il numero dei dati è molto grande e il numero di righe con valore NaN è molto piccolo, allora una scelta conveniente può essere eliminare quelle righe. Se invece ci troviamo in cui un'applicazione di machine learning con pochi dati, allora eliminare queste righe non è la scelta migliore. Possiamo quindi sostituire i valori mancanti con la media, se si tratta di una colonna composta da valori numerici oppure il dato più frequente nel caso di valori categoriali.\n",
    "\n",
    "Queste sono solo alcune delle scelte che si possono fare, ma vediamole più nel dettaglio."
   ]
  },
  {
   "cell_type": "code",
   "execution_count": null,
   "metadata": {},
   "outputs": [],
   "source": [
    "import pandas as pd\n",
    "dataset1 = pd.read_csv('winemag-data-130k-v2.csv',index_col=0)"
   ]
  },
  {
   "cell_type": "code",
   "execution_count": null,
   "metadata": {},
   "outputs": [],
   "source": [
    "# Prendiamo un esempio che contiene un NaN\n",
    "# In questo caso, ci viene restituista una riga, dove nella colonna 'price' troviamo NaN\n",
    "dataset1.loc[dataset1.country == \"Egypt\"]\n",
    "\n",
    "# Dimensione del dataset di partenza\n",
    "print(dataset1.shape)"
   ]
  },
  {
   "cell_type": "code",
   "execution_count": null,
   "metadata": {},
   "outputs": [],
   "source": [
    "# Tecnica 1: eliminiamo le righe (axis=0) che contengono NaN\n",
    "dfnan = dataset1.copy()\n",
    "dfnan.dropna(axis=0, inplace=True)\n",
    "\n",
    "# Stampa della dimensione del dataset, dopo l'eliminazione dei NaN\n",
    "print(dfnan.shape)\n",
    "# Stampa delle righe che hanno come valore di country Egypt\n",
    "# Risultato: non ci sono, è stata eliminata a causa del valore NaN in price\n",
    "print(dfnan.loc[dfnan.country == \"Egypt\"])"
   ]
  },
  {
   "cell_type": "code",
   "execution_count": null,
   "metadata": {},
   "outputs": [],
   "source": [
    "#Tecnica 2: eliminiamo le colonne (axis=1) che contengono NaN\n",
    "dfnan = dataset1.copy()\n",
    "dfnan.dropna(axis=1, inplace=True)\n",
    "\n",
    "# Stampa della dimensione del dataset, dopo l'eliminazione dei NaN\n",
    "# Vediamo una riduzione di colonne\n",
    "print(dfnan.shape)"
   ]
  },
  {
   "cell_type": "code",
   "execution_count": null,
   "metadata": {},
   "outputs": [],
   "source": [
    "# Tecnica 3: come sostituire ai NaN un valore\n",
    "dfnan = dataset1.copy()\n",
    "# Utilizziamo fillna() per sostituire a NaN il valore 0\n",
    "dfnan.fillna(value=0, inplace=True)\n",
    "\n",
    "# Stampando le righe con valore \"Egypt\", vediamo che nella colonna 'price' abbiamo 0.0 al posto di NaN\n",
    "print(dfnan.loc[dfnan.country == \"Egypt\"])"
   ]
  },
  {
   "cell_type": "code",
   "execution_count": null,
   "metadata": {},
   "outputs": [],
   "source": [
    "# Esempio per riempire colonne categoriche (cioè che contengono stringhe)\n",
    "dfnan = dataset1.copy()\n",
    "\n",
    "# Calcolo il numero di righe che ha valore NaN nella colonna 'country'\n",
    "n_rows = dfnan[dfnan.country.isnull()].shape[0]\n",
    "# Ottenere gli indici delle righe che hanno valore NaN nella colonna 'country'\n",
    "nan_indices = dfnan.loc[dfnan.country.isnull()].index\n",
    "# Calcolo della moda della colonna 'country'\n",
    "mode_country = dfnan.country.mode()[0]\n",
    "# Sostituire ai valori NaN la moda trovata\n",
    "df_filled = dfnan.fillna({'country':mode_country})\n",
    "\n",
    "# Varie stampe che potete utilizzare\n",
    "print(n_rows)\n",
    "print(nan_indices)\n",
    "print(mode_country)\n",
    "print(dfnan.loc[nan_indices,'country'])\n",
    "print(df_filled.loc[nan_indices,'country'])"
   ]
  },
  {
   "cell_type": "code",
   "execution_count": null,
   "metadata": {},
   "outputs": [],
   "source": [
    "# Esempio per sostituire a valori NaN dei valori numerici\n",
    "dfnan = dataset1.copy()\n",
    "\n",
    "# Calcolo il numero di righe che ha valore NaN nella colonna 'price'\n",
    "n_rows = dfnan[dfnan.price.isnull()].shape[0]\n",
    "# Ottenere gli indici delle righe che hanno valore NaN nella colonna 'price'\n",
    "nan_indices = dfnan.loc[dfnan.price.isnull()].index\n",
    "# Calcolo della media della colonna 'price'\n",
    "mean_price = dfnan.price.mean()\n",
    "# Sostituire ai valori NaN la media trovata\n",
    "df_filled = dfnan.fillna({'price':mean_price})\n",
    "\n",
    "# Varie stampe\n",
    "print(n_rows)\n",
    "print(nan_indices)\n",
    "print(mean_price)\n",
    "print(dfnan.loc[nan_indices,'price'])\n",
    "print(df_filled.loc[nan_indices,'price'])"
   ]
  }
 ],
 "metadata": {
  "language_info": {
   "name": "python"
  }
 },
 "nbformat": 4,
 "nbformat_minor": 2
}
