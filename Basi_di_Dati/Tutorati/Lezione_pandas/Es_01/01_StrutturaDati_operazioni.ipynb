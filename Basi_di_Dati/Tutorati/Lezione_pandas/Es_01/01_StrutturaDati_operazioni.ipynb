{
 "cells": [
  {
   "cell_type": "markdown",
   "metadata": {},
   "source": [
    "# **Strutture dati in pandas**"
   ]
  },
  {
   "cell_type": "code",
   "execution_count": null,
   "metadata": {},
   "outputs": [],
   "source": [
    "import pandas as pd"
   ]
  },
  {
   "cell_type": "code",
   "execution_count": null,
   "metadata": {},
   "outputs": [],
   "source": [
    "#Esempio di DataFrame\n",
    "data = pd.DataFrame({'Nome':['Mario','Luigi'], 'Cognome':['Rossi','Luigi'], 'Età':['22','37']})\n",
    "\n",
    "print(\"Esempio di DataFrame: \")\n",
    "print(data)\n",
    "\n",
    "# Esempio di Series\n",
    "data2 = pd.Series(['Mario','Luigi'], index=['Persona1','Persona2'], name='Nomi')\n",
    "\n",
    "print(\"\\nEsempio di Series: \")\n",
    "print(data2)"
   ]
  },
  {
   "cell_type": "markdown",
   "metadata": {},
   "source": [
    "# **Lettura di un file CSV**"
   ]
  },
  {
   "cell_type": "code",
   "execution_count": null,
   "metadata": {},
   "outputs": [],
   "source": [
    "df = pd.read_csv('winemag-data-130k-v2.csv', index_col=0)"
   ]
  },
  {
   "cell_type": "markdown",
   "metadata": {},
   "source": [
    "# Contenuto del dataset\n",
    "\n",
    "Il dataset riguarda le recensioni di vini, dove ogni riga indica una determinata recensione su un particolare vino. Le colonne del dataset sono le seguenti:\n",
    "\n",
    "*   **country**: nazione da dove deriva il vino\n",
    "*   **description**: descrizione del vino\n",
    "*   **designation**: vigneto che ha prodotto il vino\n",
    "*   **points**: numero di punti attribuiti a quel vino\n",
    "*   **price**: costo di una bottiglia di quel vino\n",
    "*   **province**: provincia dal quale viene il vino\n",
    "*   **region_1**: area vinicola nella provincia o stato\n",
    "*   **region_2**: specifica regione all'interno dell'area vinicola\n",
    "*   **taster_name**: nome del degustatore\n",
    "*   **taster_twitter_handle**: nome utente twitter del degustatore\n",
    "*   **title**: nome del vino\n",
    "*   **variety**: varietà del vino (tipo, es. bianco, rosso, rosè)\n",
    "*   **winery**: cantina"
   ]
  },
  {
   "cell_type": "markdown",
   "metadata": {},
   "source": [
    "# **Operazioni che possiamo compiere sul dataset**"
   ]
  },
  {
   "cell_type": "code",
   "execution_count": null,
   "metadata": {},
   "outputs": [],
   "source": [
    "# Attributo columns: lista del nome delle colonne del dataset\n",
    "df.columns\n",
    "\n",
    "# Attributo shape: restituisce una tupla contenente come primo elemento il numero di righe, secondo elemento il numero di colonne\n",
    "n_rows, n_columns = df.shape\n",
    "print(n_rows)\n",
    "print(n_columns)"
   ]
  },
  {
   "cell_type": "code",
   "execution_count": null,
   "metadata": {},
   "outputs": [],
   "source": [
    "# Funzione head(): restituisce le prime 5 righe del dataframe, dalla riga 0 alla riga 4\n",
    "df.head()\n",
    "\n",
    "# Se mettiamo come parametro 2, ci restituisce tutte le righe del dataframe dalla 0 alla 1\n",
    "df.head(2)"
   ]
  },
  {
   "cell_type": "code",
   "execution_count": null,
   "metadata": {},
   "outputs": [],
   "source": [
    "# Accedere alla colonna price del dataframe\n",
    "df.price\n",
    "df['price']\n",
    "\n",
    "# dtype è l'attributo che ci indica la tipologia di dato contenuta nella colonna price\n",
    "df.price.dtype\n",
    "\n",
    "# dtypes restituisce la tipologia di dato per ogni colonna del dataframe\n",
    "df.dtypes"
   ]
  },
  {
   "cell_type": "code",
   "execution_count": null,
   "metadata": {},
   "outputs": [],
   "source": [
    "\"\"\"\n",
    "Per accedere ai valori contenuti nel dataframe possiamo usare gli indici:\n",
    "  - possiamo restringerci su una singola colonna (sottoforma di lista) richiamandoci sulla singola\n",
    "    colonna e poi accedere tramite indice\n",
    "  - possiamo usare le funzioni iloc (se usiamo solo indici numerici) oppure loc (se usiamo delle labels)\n",
    "    per ottenere delle sottomatrici\n",
    "\"\"\"\n",
    "df.price[1] # si accede ai vari valori della colonna price\n",
    "\n",
    "df.iloc[0:3,0:3] # selezionare sottomatrici utilizzando indici numerici\n",
    "df.loc[0:3,['country','description','designation']] # selezionare sottomatrici utilizzando labels\n",
    "\n",
    "\"\"\"\n",
    "Possiamo usare anche delle condizioni per ottenere le righe del dataframe che soddisfano quella condizione\n",
    "\"\"\"\n",
    "df.loc[(df.country == 'Italy') & (df.points >= 90)] # & -> and, | -> or\n",
    "\n",
    "# isnull() è la funzione che ci permette di individuare le righe del dataframe che hanno\n",
    "# valore NaN nella colonna considerata (in questo caso price)\n",
    "df.loc[df.price.isnull()]"
   ]
  },
  {
   "cell_type": "code",
   "execution_count": null,
   "metadata": {},
   "outputs": [],
   "source": [
    "# unique() restituisce la lista di valori non ripetuti contenuti nella colonna su cui è stato richiamato\n",
    "df.taster_name.unique()\n",
    "\n",
    "# value_counts() restituisce una lista di valori, dove a ciascun valore viene associato il numero di volte\n",
    "# che questo compare nella colonna\n",
    "df.taster_name.value_counts()"
   ]
  },
  {
   "cell_type": "code",
   "execution_count": null,
   "metadata": {},
   "outputs": [],
   "source": [
    "# Copia del dataset, in modo da non modificare quello originale\n",
    "df_taster = df.copy()\n",
    "\n",
    "# Calcoliamo il numero di righe che contengono con taster_twitter_handle il valore @kerinokeefe\n",
    "# Una volta selezionate le righe tramite condizione, possiamo usare len per contarle\n",
    "rows_taster = df_taster.taster_twitter_handle.loc[df_taster.taster_twitter_handle == '@kerinokeefe']\n",
    "print(\"Numero di occorrenze di @kerinokeefe: \", len(rows_taster))\n",
    "# Un altro metodo è quello di richiamare sulla colonna taster_twitter_handle la funzione value_counts()\n",
    "# che restituisce un dizionario dove a ogni nome utente associa la frequenza. Ci accediamo tramite chiave\n",
    "# così da ottenere il numero di volte che compare @kerinokeefe\n",
    "print(\"Numero di occorrenze di @kerinokeefe: \", df_taster.taster_twitter_handle.value_counts()['@kerinokeefe'])\n",
    "\n",
    "# La funzione replace() viene utilizzata per rimpiazzare un valore della colonna con un altro\n",
    "# Visto che vogliamo che la modifica si rifletta anche sul dataframe, dobbiamo assegnare il risultato alla\n",
    "# colonna del dataframe.\n",
    "df_taster['taster_twitter_handle'] = df_taster.taster_twitter_handle.replace(\"@kerinokeefe\",\"@kerino\")\n",
    "print(\"Numero di occorrenze di @kerino: \", df_taster.taster_twitter_handle.value_counts()['@kerino'])"
   ]
  }
 ],
 "metadata": {
  "language_info": {
   "name": "python"
  }
 },
 "nbformat": 4,
 "nbformat_minor": 2
}
